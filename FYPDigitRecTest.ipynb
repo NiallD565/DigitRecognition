{
 "cells": [
  {
   "cell_type": "code",
   "execution_count": null,
   "metadata": {
    "scrolled": true
   },
   "outputs": [],
   "source": [
    "from PIL import Image\n",
    "import glob\n",
    "import numpy as np\n",
    "import os\n",
    "from os.path import basename\n",
    "\n",
    "image_list = []\n",
    "for filename in glob.glob('Images/*.png'): #assuming png\n",
    "    im=Image.open(filename)\n",
    "    label = int(filename.split(\"_\")[1])\n",
    "    print(label)\n",
    "    image_list.append(im)\n",
    "\n",
    "#path = basename('Images/0')\n",
    "#path"
   ]
  },
  {
   "cell_type": "code",
   "execution_count": null,
   "metadata": {},
   "outputs": [],
   "source": [
    "%matplotlib inline\n",
    "\n",
    "import matplotlib\n",
    "import matplotlib.pyplot as plt\n",
    "\n",
    "flat_Image_List = [] # new lsit containing flatten image arrays\n",
    "for img in image_list: # iterate over the images contained in the directory\n",
    "    img = np.reshape(img, (1, 49152)) # flattened each imag (3 per each pixel)\n",
    "    flat_Image_List.append(img) # Append to the list \n",
    "    #plt.imshow(im)\n",
    "    #print(flat_Image_List)\n",
    "\n"
   ]
  },
  {
   "cell_type": "code",
   "execution_count": null,
   "metadata": {},
   "outputs": [],
   "source": [
    "import os\n",
    "\n",
    "#os.walk(Images)\n",
    "\n",
    "#path=os.path.dirname(\"Images/0/KBND_0_0.png\")\n",
    "path = os.getcwd()\n",
    "path"
   ]
  },
  {
   "cell_type": "code",
   "execution_count": null,
   "metadata": {},
   "outputs": [],
   "source": []
  }
 ],
 "metadata": {
  "kernelspec": {
   "display_name": "Python 3",
   "language": "python",
   "name": "python3"
  },
  "language_info": {
   "codemirror_mode": {
    "name": "ipython",
    "version": 3
   },
   "file_extension": ".py",
   "mimetype": "text/x-python",
   "name": "python",
   "nbconvert_exporter": "python",
   "pygments_lexer": "ipython3",
   "version": "3.6.5"
  }
 },
 "nbformat": 4,
 "nbformat_minor": 2
}
