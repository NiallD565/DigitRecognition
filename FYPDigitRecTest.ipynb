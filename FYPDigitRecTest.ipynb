{
 "cells": [
  {
   "cell_type": "code",
   "execution_count": 1,
   "metadata": {
    "scrolled": true
   },
   "outputs": [],
   "source": [
    "from PIL import Image\n",
    "import glob\n",
    "import numpy as np\n",
    "import os\n",
    "from os.path import basename\n",
    "\n",
    "image_Lbl_list = []\n",
    "for filename in glob.glob('Dataset/*.png'): #assuming png\n",
    "    im = Image.open(filename)\n",
    "    label = (filename.split(\"_\")[1])\n",
    "    #print(label)\n",
    "    image_Lbl_list.append(label)\n",
    "    im.close()\n",
    "\n",
    "#print(image_Lbl_list)\n",
    "\n",
    "#path = basename('Images/0')\n",
    "#path"
   ]
  },
  {
   "cell_type": "code",
   "execution_count": 3,
   "metadata": {
    "scrolled": false
   },
   "outputs": [],
   "source": [
    "%matplotlib inline\n",
    "\n",
    "import matplotlib\n",
    "import matplotlib.pyplot as plt\n",
    "\n",
    "flat_Image_List = [] # new list containing flatten image arrays\n",
    "#for img in image_Lbl_list: # iterate over the images contained in the directory\n",
    "for filename in glob.glob('Dataset/*.png'):\n",
    "    im = Image.open(filename)\n",
    "    img = np.reshape(im, (1, 49152)) # flattened each imag (3 per each pixel)\n",
    "    flat_Image_List.append(img) # Append to the list \n",
    "    #plt.imshow(img)\n",
    "    im.close()\n",
    "    #print(flat_Image_List)\n",
    "\n",
    "#print(flat_Image_List)"
   ]
  },
  {
   "cell_type": "code",
   "execution_count": 4,
   "metadata": {},
   "outputs": [
    {
     "ename": "AttributeError",
     "evalue": "'list' object has no attribute 'reshape'",
     "output_type": "error",
     "traceback": [
      "\u001b[1;31m---------------------------------------------------------------------------\u001b[0m",
      "\u001b[1;31mAttributeError\u001b[0m                            Traceback (most recent call last)",
      "\u001b[1;32m<ipython-input-4-2e2711b6a812>\u001b[0m in \u001b[0;36m<module>\u001b[1;34m()\u001b[0m\n\u001b[0;32m      2\u001b[0m \u001b[1;33m\u001b[0m\u001b[0m\n\u001b[0;32m      3\u001b[0m \u001b[1;31m#flat_Image_Array = array(flat_Image_List)\u001b[0m\u001b[1;33m\u001b[0m\u001b[1;33m\u001b[0m\u001b[0m\n\u001b[1;32m----> 4\u001b[1;33m \u001b[0mflat_Image_Array\u001b[0m \u001b[1;33m=\u001b[0m \u001b[0mflat_Image_List\u001b[0m\u001b[1;33m.\u001b[0m\u001b[0mreshape\u001b[0m\u001b[1;33m(\u001b[0m\u001b[0mflat_Image_List\u001b[0m\u001b[1;33m.\u001b[0m\u001b[0mshape\u001b[0m\u001b[1;33m[\u001b[0m\u001b[1;36m0\u001b[0m\u001b[1;33m]\u001b[0m\u001b[1;33m,\u001b[0m \u001b[1;36m28\u001b[0m\u001b[1;33m,\u001b[0m \u001b[1;36m28\u001b[0m\u001b[1;33m,\u001b[0m \u001b[1;36m1\u001b[0m\u001b[1;33m)\u001b[0m\u001b[1;33m\u001b[0m\u001b[0m\n\u001b[0m\u001b[0;32m      5\u001b[0m \u001b[1;33m\u001b[0m\u001b[0m\n\u001b[0;32m      6\u001b[0m \u001b[0mprint\u001b[0m\u001b[1;33m(\u001b[0m\u001b[0mflat_Image_List\u001b[0m\u001b[1;33m[\u001b[0m\u001b[1;36m1\u001b[0m\u001b[1;33m]\u001b[0m\u001b[1;33m)\u001b[0m\u001b[1;33m\u001b[0m\u001b[0m\n",
      "\u001b[1;31mAttributeError\u001b[0m: 'list' object has no attribute 'reshape'"
     ]
    }
   ],
   "source": [
    "from numpy import array\n",
    "\n",
    "#flat_Image_Array = array(flat_Image_List)\n",
    "flat_Image_Array = flat_Image_List.reshape(flat_Image_List.shape[0], 28, 28, 1)\n",
    "\n",
    "print(flat_Image_List[1])\n",
    "flat_Image_Array.shape"
   ]
  },
  {
   "cell_type": "code",
   "execution_count": null,
   "metadata": {},
   "outputs": [],
   "source": [
    "# For encoding categorical variables and pre processing.\n",
    "import sklearn.preprocessing as pre\n",
    "\n",
    "encoder = pre.LabelBinarizer()\n",
    "encoder.fit(image_Lbl_list)\n",
    "outputs = encoder.transform(image_Lbl_list)\n",
    "\n",
    "outputs[0]\n",
    "\n",
    "inputs = flat_Image_Array.reshape(100, 49152)\n",
    "inputs.shape"
   ]
  },
  {
   "cell_type": "code",
   "execution_count": null,
   "metadata": {},
   "outputs": [],
   "source": [
    "# ------- MODEL -------\n",
    "# Import keras.\n",
    "import keras as kr\n",
    "# Importing the required Keras modules containing model and layers\n",
    "from keras.models import Sequential\n",
    "from keras.layers import Dropout \n",
    "\n",
    "# Start a neural network, building it by layers.\n",
    "model = kr.models.Sequential()\n",
    "# Add a hidden layer with 784 neurons.\n",
    "model.add(kr.layers.Dense(units=784, activation='relu', input_dim=49152))\n",
    "# Add a hidden layer with 455 neurons.\n",
    "model.add(kr.layers.Dense(units=455, activation='relu'))\n",
    "# Add a hidden layer with 120 neurons.\n",
    "model.add(kr.layers.Dense(units=120, activation='linear'))\n",
    "# Add a hidden layer with 50 neurons.\n",
    "model.add(kr.layers.Dense(units=50, activation='relu'))\n",
    "\n",
    "# Add a three neuron output layer.\n",
    "model.add(kr.layers.Dense(units=10, activation='softmax'))"
   ]
  },
  {
   "cell_type": "code",
   "execution_count": null,
   "metadata": {},
   "outputs": [],
   "source": [
    "model.summary()"
   ]
  },
  {
   "cell_type": "code",
   "execution_count": null,
   "metadata": {},
   "outputs": [],
   "source": [
    "flat_Image_Array = np.array(list(flat_Image_List[:])).reshape(100, 49152).astype(np.uint8)\n",
    "image_Lbl_list =  np.array(list(image_Lbl_list[:])).astype(np.uint8)\n",
    "\n",
    "flat_Image_Array[1]\n",
    "#print(image_Lbl_list)"
   ]
  },
  {
   "cell_type": "code",
   "execution_count": null,
   "metadata": {},
   "outputs": [],
   "source": [
    "# Build the graph.\n",
    "model.compile(loss='categorical_crossentropy', optimizer='adam', metrics=['accuracy'])\n",
    "# Number of Epoch is the amount of times the training set is put through the model\n",
    "# The batch size is the amount of images the models processes at one time\n",
    "model.fit(inputs, outputs, epochs=10, batch_size=10)"
   ]
  },
  {
   "cell_type": "code",
   "execution_count": null,
   "metadata": {},
   "outputs": [],
   "source": [
    "flat_Image_Array = np.array(list(flat_Image_List[:])).reshape(100, 49152).astype(np.uint8)\n",
    "image_Lbl_list =  np.array(list(image_Lbl_list[:])).astype(np.uint8)"
   ]
  }
 ],
 "metadata": {
  "kernelspec": {
   "display_name": "Python 3",
   "language": "python",
   "name": "python3"
  },
  "language_info": {
   "codemirror_mode": {
    "name": "ipython",
    "version": 3
   },
   "file_extension": ".py",
   "mimetype": "text/x-python",
   "name": "python",
   "nbconvert_exporter": "python",
   "pygments_lexer": "ipython3",
   "version": "3.6.5"
  }
 },
 "nbformat": 4,
 "nbformat_minor": 2
}
